{
 "cells": [
  {
   "cell_type": "markdown",
   "metadata": {},
   "source": [
    "# Attention and Self-Attention\n",
    "---\n",
    "Attention Mechanism은 Seq2Seq에서 <b>모델의 Sequence가 길어지면 과거 상태를 기억하지 못하는 단점</b>이 있는데, 이때 <b>주목해야될 Vector가 무엇인지 강조해 주는 것이 목적</b>이다. 이를 통하여 성능이 증가할 수 있다. Attention Mechanism은 특정 알고리즘이 아닌 특정 정보를 뽑기 위한 방법이다. "
   ]
  },
  {
   "cell_type": "markdown",
   "metadata": {},
   "source": [
    "# 1. Attention\n",
    "---\n",
    "\"나는 딥러닝을 공부한다.\" 라는 문장을 영어로 \"I study deep learning\" 으로 바꿔야 할 때, <b>Encoder가 \"I\"를 받아서 Vector화한 결과 (인코더의 출력)이 Decoder로 예측을 해야할 때 쓰는 Vector(Decoder 입력)과 유사할 것이 Attention의 핵심 아이디어</b>이다."
   ]
  },
  {
   "cell_type": "markdown",
   "metadata": {},
   "source": [
    "## 1.1 Hidden State in Encoder\n",
    "---\n",
    "Encoder 과정에서 각각의 Input Sequence의 각각의 아이템들의 정보는 hidden state 추출됩니다. 이는 Decoder 과정으로 보내져서 사용됩니다. <br />\n",
    "![alt text](video/seq2seq_attention.gif) <br />\n"
   ]
  },
  {
   "cell_type": "markdown",
   "metadata": {},
   "source": [
    "## 1.2 Attention Processing in Decoder\n",
    "---\n",
    "Decoder에서 Output을 만들기 전에 추가적인 과정을 더 진행됩니다. 이는 디코딩 time step과 관련된 input을 더 집중해서 보기 위함입니다. <br />\n",
    "\n",
    "### 1.2.1 Encoder의 hidden state들과 Decoder의 각각의 sequence의 hidden state를 dot product 합니다. <br />\n",
    "```\n",
    "decoder_hidden_state = [10, 5, 10]\n",
    "\n",
    " sequence    encoder_hidden_state   score\n",
    "    1             [0, 1, 1]          15   (= 10 * 0 + 5 * 1 + 10 * 1, the dot product)\n",
    "    2             [5, 0, 1]          60\n",
    "    3             [1, 1, 0]          15\n",
    "    4             [0, 5, 1]          35\n",
    "```\n",
    "\n",
    "### 1.2.2 Dot product한 값을 score라고 칭하고 이는 attention weights 입니다. <br />\n",
    "```\n",
    " sequence    encoder_hidden_state   score   softmax score\n",
    "    1             [0, 1, 1]          15        2.86e-20 --> 0 으로 가정\n",
    "    2             [5, 0, 1]          60          0.99   --> 1 로 가정\n",
    "    3             [1, 1, 0]          15        2.86e-20 --> 0 으로 가정\n",
    "    4             [0, 5, 1]          35        1.38e-11 --> 0 으로 가정\n",
    "    \n",
    "```\n",
    "\n",
    "### 1.2.3 이를 softmax를 취하고 이 값들을 각각 sequence의 hidden state에 곱하고 더하면 하나의 weighted vector로 나오게 됩니다. <br />\n",
    "```\n",
    " sequence    encoder_hidden_state   score   softmax score   alignment\n",
    "    1             [0, 1, 1]          15          0          [0, 0, 0] (encoder_hidden_state * softmax score)\n",
    "    2             [5, 0, 1]          60          1          [5, 0, 1]\n",
    "    3             [1, 1, 0]          15          0          [0, 0, 0]\n",
    "    4             [0, 5, 1]          35          0          [0, 0, 0]\n",
    "    \n",
    "Weighted Vector (Context Vector) += [0+5+0+0, 0+0+0+0, 0+1+0+0] = [5, 0, 1]\n",
    "```\n",
    "![alt text](video/seq2seq_process.gif) <br />"
   ]
  },
  {
   "cell_type": "markdown",
   "metadata": {},
   "source": [
    "## 1.3 Atteion + Feedforward Neural Network in Decoder\n",
    "---\n",
    "- End 토큰과 initial decoder hidden state를 RNN의 Input으로 사용합니다. <br />\n",
    "- RNN의 hidden state와 위에서 만든 Context Vector를 Concate합니다.\n",
    "- Concate된 vector를 Feedforward Neural Network의 Input을 사용하여 최종 Output을 계산합니다. \n",
    "![alt text](video/seq2seq_output.gif) <br />"
   ]
  }
 ],
 "metadata": {
  "kernelspec": {
   "display_name": "Python 3",
   "language": "python",
   "name": "python3"
  },
  "language_info": {
   "codemirror_mode": {
    "name": "ipython",
    "version": 3
   },
   "file_extension": ".py",
   "mimetype": "text/x-python",
   "name": "python",
   "nbconvert_exporter": "python",
   "pygments_lexer": "ipython3",
   "version": "3.6.7"
  }
 },
 "nbformat": 4,
 "nbformat_minor": 2
}
